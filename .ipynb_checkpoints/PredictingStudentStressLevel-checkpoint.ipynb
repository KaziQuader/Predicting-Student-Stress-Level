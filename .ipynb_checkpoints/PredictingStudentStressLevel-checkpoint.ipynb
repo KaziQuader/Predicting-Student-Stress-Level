{
 "cells": [
  {
   "cell_type": "code",
   "execution_count": 1,
   "id": "1a0f5a5e-0c7e-48a2-b502-362d5b7a927f",
   "metadata": {},
   "outputs": [],
   "source": [
    "import pandas as pd\n",
    "import numpy as np\n",
    "import seaborn as sns\n",
    "import matplotlib.pyplot as plt"
   ]
  },
  {
   "cell_type": "code",
   "execution_count": 2,
   "id": "f19ef2e2-b384-48d5-935a-d2d905615a50",
   "metadata": {},
   "outputs": [
    {
     "data": {
      "text/html": [
       "<div>\n",
       "<style scoped>\n",
       "    .dataframe tbody tr th:only-of-type {\n",
       "        vertical-align: middle;\n",
       "    }\n",
       "\n",
       "    .dataframe tbody tr th {\n",
       "        vertical-align: top;\n",
       "    }\n",
       "\n",
       "    .dataframe thead th {\n",
       "        text-align: right;\n",
       "    }\n",
       "</style>\n",
       "<table border=\"1\" class=\"dataframe\">\n",
       "  <thead>\n",
       "    <tr style=\"text-align: right;\">\n",
       "      <th></th>\n",
       "      <th>anxiety_level</th>\n",
       "      <th>self_esteem</th>\n",
       "      <th>mental_health_history</th>\n",
       "      <th>depression</th>\n",
       "      <th>headache</th>\n",
       "      <th>blood_pressure</th>\n",
       "      <th>sleep_quality</th>\n",
       "      <th>breathing_problem</th>\n",
       "      <th>noise_level</th>\n",
       "      <th>living_conditions</th>\n",
       "      <th>...</th>\n",
       "      <th>basic_needs</th>\n",
       "      <th>academic_performance</th>\n",
       "      <th>study_load</th>\n",
       "      <th>teacher_student_relationship</th>\n",
       "      <th>future_career_concerns</th>\n",
       "      <th>social_support</th>\n",
       "      <th>peer_pressure</th>\n",
       "      <th>extracurricular_activities</th>\n",
       "      <th>bullying</th>\n",
       "      <th>stress_level</th>\n",
       "    </tr>\n",
       "  </thead>\n",
       "  <tbody>\n",
       "    <tr>\n",
       "      <th>0</th>\n",
       "      <td>14.0</td>\n",
       "      <td>20.0</td>\n",
       "      <td>No</td>\n",
       "      <td>11.0</td>\n",
       "      <td>Mild Pain</td>\n",
       "      <td>Low</td>\n",
       "      <td>2</td>\n",
       "      <td>4</td>\n",
       "      <td>2</td>\n",
       "      <td>3</td>\n",
       "      <td>...</td>\n",
       "      <td>2</td>\n",
       "      <td>3</td>\n",
       "      <td>2</td>\n",
       "      <td>3</td>\n",
       "      <td>3</td>\n",
       "      <td>2</td>\n",
       "      <td>3</td>\n",
       "      <td>3</td>\n",
       "      <td>2</td>\n",
       "      <td>1</td>\n",
       "    </tr>\n",
       "    <tr>\n",
       "      <th>1</th>\n",
       "      <td>15.0</td>\n",
       "      <td>8.0</td>\n",
       "      <td>Yes</td>\n",
       "      <td>15.0</td>\n",
       "      <td>Ubearable Pain</td>\n",
       "      <td>High</td>\n",
       "      <td>1</td>\n",
       "      <td>4</td>\n",
       "      <td>3</td>\n",
       "      <td>1</td>\n",
       "      <td>...</td>\n",
       "      <td>2</td>\n",
       "      <td>1</td>\n",
       "      <td>4</td>\n",
       "      <td>1</td>\n",
       "      <td>5</td>\n",
       "      <td>1</td>\n",
       "      <td>4</td>\n",
       "      <td>5</td>\n",
       "      <td>5</td>\n",
       "      <td>2</td>\n",
       "    </tr>\n",
       "    <tr>\n",
       "      <th>2</th>\n",
       "      <td>43.0</td>\n",
       "      <td>18.0</td>\n",
       "      <td>Yes</td>\n",
       "      <td>14.0</td>\n",
       "      <td>Mild Pain</td>\n",
       "      <td>Low</td>\n",
       "      <td>2</td>\n",
       "      <td>2</td>\n",
       "      <td>2</td>\n",
       "      <td>2</td>\n",
       "      <td>...</td>\n",
       "      <td>2</td>\n",
       "      <td>2</td>\n",
       "      <td>3</td>\n",
       "      <td>3</td>\n",
       "      <td>2</td>\n",
       "      <td>2</td>\n",
       "      <td>3</td>\n",
       "      <td>2</td>\n",
       "      <td>2</td>\n",
       "      <td>1</td>\n",
       "    </tr>\n",
       "    <tr>\n",
       "      <th>3</th>\n",
       "      <td>16.0</td>\n",
       "      <td>12.0</td>\n",
       "      <td>Yes</td>\n",
       "      <td>15.0</td>\n",
       "      <td>Strong Pain</td>\n",
       "      <td>High</td>\n",
       "      <td>1</td>\n",
       "      <td>3</td>\n",
       "      <td>4</td>\n",
       "      <td>2</td>\n",
       "      <td>...</td>\n",
       "      <td>2</td>\n",
       "      <td>2</td>\n",
       "      <td>4</td>\n",
       "      <td>1</td>\n",
       "      <td>4</td>\n",
       "      <td>1</td>\n",
       "      <td>4</td>\n",
       "      <td>4</td>\n",
       "      <td>5</td>\n",
       "      <td>2</td>\n",
       "    </tr>\n",
       "    <tr>\n",
       "      <th>4</th>\n",
       "      <td>16.0</td>\n",
       "      <td>28.0</td>\n",
       "      <td>No</td>\n",
       "      <td>7.0</td>\n",
       "      <td>Mild Pain</td>\n",
       "      <td>High</td>\n",
       "      <td>5</td>\n",
       "      <td>1</td>\n",
       "      <td>3</td>\n",
       "      <td>2</td>\n",
       "      <td>...</td>\n",
       "      <td>3</td>\n",
       "      <td>4</td>\n",
       "      <td>3</td>\n",
       "      <td>1</td>\n",
       "      <td>2</td>\n",
       "      <td>1</td>\n",
       "      <td>5</td>\n",
       "      <td>0</td>\n",
       "      <td>5</td>\n",
       "      <td>1</td>\n",
       "    </tr>\n",
       "  </tbody>\n",
       "</table>\n",
       "<p>5 rows × 21 columns</p>\n",
       "</div>"
      ],
      "text/plain": [
       "   anxiety_level  self_esteem mental_health_history  depression  \\\n",
       "0           14.0         20.0                    No        11.0   \n",
       "1           15.0          8.0                   Yes        15.0   \n",
       "2           43.0         18.0                   Yes        14.0   \n",
       "3           16.0         12.0                   Yes        15.0   \n",
       "4           16.0         28.0                    No         7.0   \n",
       "\n",
       "         headache blood_pressure  sleep_quality  breathing_problem  \\\n",
       "0       Mild Pain            Low              2                  4   \n",
       "1  Ubearable Pain           High              1                  4   \n",
       "2       Mild Pain            Low              2                  2   \n",
       "3     Strong Pain           High              1                  3   \n",
       "4       Mild Pain           High              5                  1   \n",
       "\n",
       "   noise_level  living_conditions  ...  basic_needs  academic_performance  \\\n",
       "0            2                  3  ...            2                     3   \n",
       "1            3                  1  ...            2                     1   \n",
       "2            2                  2  ...            2                     2   \n",
       "3            4                  2  ...            2                     2   \n",
       "4            3                  2  ...            3                     4   \n",
       "\n",
       "   study_load  teacher_student_relationship  future_career_concerns  \\\n",
       "0           2                             3                       3   \n",
       "1           4                             1                       5   \n",
       "2           3                             3                       2   \n",
       "3           4                             1                       4   \n",
       "4           3                             1                       2   \n",
       "\n",
       "   social_support  peer_pressure  extracurricular_activities  bullying  \\\n",
       "0               2              3                           3         2   \n",
       "1               1              4                           5         5   \n",
       "2               2              3                           2         2   \n",
       "3               1              4                           4         5   \n",
       "4               1              5                           0         5   \n",
       "\n",
       "   stress_level  \n",
       "0             1  \n",
       "1             2  \n",
       "2             1  \n",
       "3             2  \n",
       "4             1  \n",
       "\n",
       "[5 rows x 21 columns]"
      ]
     },
     "execution_count": 2,
     "metadata": {},
     "output_type": "execute_result"
    }
   ],
   "source": [
    "df = pd.read_csv('RawDataset.csv')\n",
    "df.head()"
   ]
  },
  {
   "cell_type": "code",
   "execution_count": 3,
   "id": "bd45d027-a809-45c9-86e2-c64c4a9c0edc",
   "metadata": {},
   "outputs": [
    {
     "data": {
      "text/plain": [
       "anxiety_level                   float64\n",
       "self_esteem                     float64\n",
       "mental_health_history            object\n",
       "depression                      float64\n",
       "headache                         object\n",
       "blood_pressure                   object\n",
       "sleep_quality                     int64\n",
       "breathing_problem                 int64\n",
       "noise_level                       int64\n",
       "living_conditions                 int64\n",
       "safety                            int64\n",
       "basic_needs                       int64\n",
       "academic_performance              int64\n",
       "study_load                        int64\n",
       "teacher_student_relationship      int64\n",
       "future_career_concerns            int64\n",
       "social_support                    int64\n",
       "peer_pressure                     int64\n",
       "extracurricular_activities        int64\n",
       "bullying                          int64\n",
       "stress_level                      int64\n",
       "dtype: object"
      ]
     },
     "execution_count": 3,
     "metadata": {},
     "output_type": "execute_result"
    }
   ],
   "source": [
    "df.dtypes"
   ]
  },
  {
   "cell_type": "code",
   "execution_count": 4,
   "id": "eece10e4-b748-4f3f-a2bc-798001921f91",
   "metadata": {},
   "outputs": [
    {
     "data": {
      "text/html": [
       "<div>\n",
       "<style scoped>\n",
       "    .dataframe tbody tr th:only-of-type {\n",
       "        vertical-align: middle;\n",
       "    }\n",
       "\n",
       "    .dataframe tbody tr th {\n",
       "        vertical-align: top;\n",
       "    }\n",
       "\n",
       "    .dataframe thead th {\n",
       "        text-align: right;\n",
       "    }\n",
       "</style>\n",
       "<table border=\"1\" class=\"dataframe\">\n",
       "  <thead>\n",
       "    <tr style=\"text-align: right;\">\n",
       "      <th></th>\n",
       "      <th>anxiety_level</th>\n",
       "      <th>self_esteem</th>\n",
       "      <th>depression</th>\n",
       "      <th>sleep_quality</th>\n",
       "      <th>breathing_problem</th>\n",
       "      <th>noise_level</th>\n",
       "      <th>living_conditions</th>\n",
       "      <th>safety</th>\n",
       "      <th>basic_needs</th>\n",
       "      <th>academic_performance</th>\n",
       "      <th>study_load</th>\n",
       "      <th>teacher_student_relationship</th>\n",
       "      <th>future_career_concerns</th>\n",
       "      <th>social_support</th>\n",
       "      <th>peer_pressure</th>\n",
       "      <th>extracurricular_activities</th>\n",
       "      <th>bullying</th>\n",
       "      <th>stress_level</th>\n",
       "    </tr>\n",
       "  </thead>\n",
       "  <tbody>\n",
       "    <tr>\n",
       "      <th>count</th>\n",
       "      <td>1060.000000</td>\n",
       "      <td>1060.000000</td>\n",
       "      <td>1067.000000</td>\n",
       "      <td>1100.000000</td>\n",
       "      <td>1100.000000</td>\n",
       "      <td>1100.000000</td>\n",
       "      <td>1100.000000</td>\n",
       "      <td>1100.000000</td>\n",
       "      <td>1100.000000</td>\n",
       "      <td>1100.000000</td>\n",
       "      <td>1100.000000</td>\n",
       "      <td>1100.000000</td>\n",
       "      <td>1100.000000</td>\n",
       "      <td>1100.000000</td>\n",
       "      <td>1100.000000</td>\n",
       "      <td>1100.000000</td>\n",
       "      <td>1100.000000</td>\n",
       "      <td>1100.000000</td>\n",
       "    </tr>\n",
       "    <tr>\n",
       "      <th>mean</th>\n",
       "      <td>12.500000</td>\n",
       "      <td>19.539623</td>\n",
       "      <td>14.116214</td>\n",
       "      <td>2.660000</td>\n",
       "      <td>2.753636</td>\n",
       "      <td>2.649091</td>\n",
       "      <td>2.518182</td>\n",
       "      <td>2.737273</td>\n",
       "      <td>2.772727</td>\n",
       "      <td>2.772727</td>\n",
       "      <td>2.621818</td>\n",
       "      <td>2.648182</td>\n",
       "      <td>2.649091</td>\n",
       "      <td>1.881818</td>\n",
       "      <td>2.734545</td>\n",
       "      <td>2.767273</td>\n",
       "      <td>2.617273</td>\n",
       "      <td>0.996364</td>\n",
       "    </tr>\n",
       "    <tr>\n",
       "      <th>std</th>\n",
       "      <td>8.989502</td>\n",
       "      <td>11.673207</td>\n",
       "      <td>10.026774</td>\n",
       "      <td>1.548383</td>\n",
       "      <td>1.400713</td>\n",
       "      <td>1.328127</td>\n",
       "      <td>1.119208</td>\n",
       "      <td>1.406171</td>\n",
       "      <td>1.433761</td>\n",
       "      <td>1.414594</td>\n",
       "      <td>1.315781</td>\n",
       "      <td>1.384579</td>\n",
       "      <td>1.529375</td>\n",
       "      <td>1.047826</td>\n",
       "      <td>1.425265</td>\n",
       "      <td>1.417562</td>\n",
       "      <td>1.530958</td>\n",
       "      <td>0.821673</td>\n",
       "    </tr>\n",
       "    <tr>\n",
       "      <th>min</th>\n",
       "      <td>0.000000</td>\n",
       "      <td>0.000000</td>\n",
       "      <td>0.000000</td>\n",
       "      <td>0.000000</td>\n",
       "      <td>0.000000</td>\n",
       "      <td>0.000000</td>\n",
       "      <td>0.000000</td>\n",
       "      <td>0.000000</td>\n",
       "      <td>0.000000</td>\n",
       "      <td>0.000000</td>\n",
       "      <td>0.000000</td>\n",
       "      <td>0.000000</td>\n",
       "      <td>0.000000</td>\n",
       "      <td>0.000000</td>\n",
       "      <td>0.000000</td>\n",
       "      <td>0.000000</td>\n",
       "      <td>0.000000</td>\n",
       "      <td>0.000000</td>\n",
       "    </tr>\n",
       "    <tr>\n",
       "      <th>25%</th>\n",
       "      <td>6.000000</td>\n",
       "      <td>11.000000</td>\n",
       "      <td>7.000000</td>\n",
       "      <td>1.000000</td>\n",
       "      <td>2.000000</td>\n",
       "      <td>2.000000</td>\n",
       "      <td>2.000000</td>\n",
       "      <td>2.000000</td>\n",
       "      <td>2.000000</td>\n",
       "      <td>2.000000</td>\n",
       "      <td>2.000000</td>\n",
       "      <td>2.000000</td>\n",
       "      <td>1.000000</td>\n",
       "      <td>1.000000</td>\n",
       "      <td>2.000000</td>\n",
       "      <td>2.000000</td>\n",
       "      <td>1.000000</td>\n",
       "      <td>0.000000</td>\n",
       "    </tr>\n",
       "    <tr>\n",
       "      <th>50%</th>\n",
       "      <td>12.000000</td>\n",
       "      <td>20.000000</td>\n",
       "      <td>12.000000</td>\n",
       "      <td>2.500000</td>\n",
       "      <td>3.000000</td>\n",
       "      <td>3.000000</td>\n",
       "      <td>2.000000</td>\n",
       "      <td>2.000000</td>\n",
       "      <td>3.000000</td>\n",
       "      <td>2.000000</td>\n",
       "      <td>2.000000</td>\n",
       "      <td>2.000000</td>\n",
       "      <td>2.000000</td>\n",
       "      <td>2.000000</td>\n",
       "      <td>2.000000</td>\n",
       "      <td>2.500000</td>\n",
       "      <td>3.000000</td>\n",
       "      <td>1.000000</td>\n",
       "    </tr>\n",
       "    <tr>\n",
       "      <th>75%</th>\n",
       "      <td>17.000000</td>\n",
       "      <td>26.000000</td>\n",
       "      <td>20.000000</td>\n",
       "      <td>4.000000</td>\n",
       "      <td>4.000000</td>\n",
       "      <td>3.000000</td>\n",
       "      <td>3.000000</td>\n",
       "      <td>4.000000</td>\n",
       "      <td>4.000000</td>\n",
       "      <td>4.000000</td>\n",
       "      <td>3.000000</td>\n",
       "      <td>4.000000</td>\n",
       "      <td>4.000000</td>\n",
       "      <td>3.000000</td>\n",
       "      <td>4.000000</td>\n",
       "      <td>4.000000</td>\n",
       "      <td>4.000000</td>\n",
       "      <td>2.000000</td>\n",
       "    </tr>\n",
       "    <tr>\n",
       "      <th>max</th>\n",
       "      <td>50.000000</td>\n",
       "      <td>59.000000</td>\n",
       "      <td>49.000000</td>\n",
       "      <td>5.000000</td>\n",
       "      <td>5.000000</td>\n",
       "      <td>5.000000</td>\n",
       "      <td>5.000000</td>\n",
       "      <td>5.000000</td>\n",
       "      <td>5.000000</td>\n",
       "      <td>5.000000</td>\n",
       "      <td>5.000000</td>\n",
       "      <td>5.000000</td>\n",
       "      <td>5.000000</td>\n",
       "      <td>3.000000</td>\n",
       "      <td>5.000000</td>\n",
       "      <td>5.000000</td>\n",
       "      <td>5.000000</td>\n",
       "      <td>2.000000</td>\n",
       "    </tr>\n",
       "  </tbody>\n",
       "</table>\n",
       "</div>"
      ],
      "text/plain": [
       "       anxiety_level  self_esteem   depression  sleep_quality  \\\n",
       "count    1060.000000  1060.000000  1067.000000    1100.000000   \n",
       "mean       12.500000    19.539623    14.116214       2.660000   \n",
       "std         8.989502    11.673207    10.026774       1.548383   \n",
       "min         0.000000     0.000000     0.000000       0.000000   \n",
       "25%         6.000000    11.000000     7.000000       1.000000   \n",
       "50%        12.000000    20.000000    12.000000       2.500000   \n",
       "75%        17.000000    26.000000    20.000000       4.000000   \n",
       "max        50.000000    59.000000    49.000000       5.000000   \n",
       "\n",
       "       breathing_problem  noise_level  living_conditions       safety  \\\n",
       "count        1100.000000  1100.000000        1100.000000  1100.000000   \n",
       "mean            2.753636     2.649091           2.518182     2.737273   \n",
       "std             1.400713     1.328127           1.119208     1.406171   \n",
       "min             0.000000     0.000000           0.000000     0.000000   \n",
       "25%             2.000000     2.000000           2.000000     2.000000   \n",
       "50%             3.000000     3.000000           2.000000     2.000000   \n",
       "75%             4.000000     3.000000           3.000000     4.000000   \n",
       "max             5.000000     5.000000           5.000000     5.000000   \n",
       "\n",
       "       basic_needs  academic_performance   study_load  \\\n",
       "count  1100.000000           1100.000000  1100.000000   \n",
       "mean      2.772727              2.772727     2.621818   \n",
       "std       1.433761              1.414594     1.315781   \n",
       "min       0.000000              0.000000     0.000000   \n",
       "25%       2.000000              2.000000     2.000000   \n",
       "50%       3.000000              2.000000     2.000000   \n",
       "75%       4.000000              4.000000     3.000000   \n",
       "max       5.000000              5.000000     5.000000   \n",
       "\n",
       "       teacher_student_relationship  future_career_concerns  social_support  \\\n",
       "count                   1100.000000             1100.000000     1100.000000   \n",
       "mean                       2.648182                2.649091        1.881818   \n",
       "std                        1.384579                1.529375        1.047826   \n",
       "min                        0.000000                0.000000        0.000000   \n",
       "25%                        2.000000                1.000000        1.000000   \n",
       "50%                        2.000000                2.000000        2.000000   \n",
       "75%                        4.000000                4.000000        3.000000   \n",
       "max                        5.000000                5.000000        3.000000   \n",
       "\n",
       "       peer_pressure  extracurricular_activities     bullying  stress_level  \n",
       "count    1100.000000                 1100.000000  1100.000000   1100.000000  \n",
       "mean        2.734545                    2.767273     2.617273      0.996364  \n",
       "std         1.425265                    1.417562     1.530958      0.821673  \n",
       "min         0.000000                    0.000000     0.000000      0.000000  \n",
       "25%         2.000000                    2.000000     1.000000      0.000000  \n",
       "50%         2.000000                    2.500000     3.000000      1.000000  \n",
       "75%         4.000000                    4.000000     4.000000      2.000000  \n",
       "max         5.000000                    5.000000     5.000000      2.000000  "
      ]
     },
     "execution_count": 4,
     "metadata": {},
     "output_type": "execute_result"
    }
   ],
   "source": [
    "df.describe()"
   ]
  },
  {
   "cell_type": "code",
   "execution_count": 5,
   "id": "9061dad6-f863-4ea5-b4cd-6c47a874d12e",
   "metadata": {},
   "outputs": [
    {
     "data": {
      "text/plain": [
       "anxiety_level                   40\n",
       "self_esteem                     40\n",
       "mental_health_history            0\n",
       "depression                      33\n",
       "headache                         0\n",
       "blood_pressure                   0\n",
       "sleep_quality                    0\n",
       "breathing_problem                0\n",
       "noise_level                      0\n",
       "living_conditions                0\n",
       "safety                           0\n",
       "basic_needs                      0\n",
       "academic_performance             0\n",
       "study_load                       0\n",
       "teacher_student_relationship     0\n",
       "future_career_concerns           0\n",
       "social_support                   0\n",
       "peer_pressure                    0\n",
       "extracurricular_activities       0\n",
       "bullying                         0\n",
       "stress_level                     0\n",
       "dtype: int64"
      ]
     },
     "execution_count": 5,
     "metadata": {},
     "output_type": "execute_result"
    }
   ],
   "source": [
    "df.isnull().sum()"
   ]
  },
  {
   "cell_type": "markdown",
   "id": "775ca998-3611-460b-88cf-faffbe263d43",
   "metadata": {},
   "source": [
    "## Class Distribution to find Imbalances in classes of target variable"
   ]
  },
  {
   "cell_type": "code",
   "execution_count": 6,
   "id": "84b904eb-63a4-4587-8912-1d6800637601",
   "metadata": {},
   "outputs": [
    {
     "data": {
      "image/png": "[encoded data removed]",
      "text/plain": [
       "<Figure size 640x480 with 1 Axes>"
      ]
     },
     "metadata": {},
     "output_type": "display_data"
    }
   ],
   "source": [
    "target_variable = \"stress_level\"\n",
    "sns.countplot(data=df, x=target_variable)\n",
    "\n",
    "# Add Labels\n",
    "plt.xlabel(target_variable)\n",
    "plt.ylabel('Count')\n",
    "plt.title(f'Distribution of {target_variable}')\n",
    "\n",
    "plt.show()"
   ]
  },
  {
   "cell_type": "markdown",
   "id": "7b6101a6-dd54-4ac8-8dc6-4054bb4d7dc1",
   "metadata": {},
   "source": [
    "### Observations: As all the classes have approximately equal number of counts there is no imbalances in the dataset"
   ]
  },
  {
   "cell_type": "markdown",
   "id": "1acb8b42-fa3b-49e6-b0d9-8c18bb28a820",
   "metadata": {},
   "source": [
    "## Handling Outliers in anxiety_level"
   ]
  },
  {
   "cell_type": "code",
   "execution_count": 7,
   "id": "0e20d83b-3aff-48ac-9290-c5ff8c1788e7",
   "metadata": {},
   "outputs": [
    {
     "data": {
      "text/plain": [
       "Text(0, 0.5, 'number of students')"
      ]
     },
     "execution_count": 7,
     "metadata": {},
     "output_type": "execute_result"
    },
    {
     "data": {
      "image/png": "[encoded data removed]",
      "text/plain": [
       "<Figure size 640x480 with 1 Axes>"
      ]
     },
     "metadata": {},
     "output_type": "display_data"
    }
   ],
   "source": [
    "figure=df.anxiety_level.hist(bins=50)\n",
    "figure.set_title('anxiety_level')\n",
    "figure.set_xlabel('anxiety_level')\n",
    "figure.set_ylabel('number of students')"
   ]
  },
  {
   "cell_type": "code",
   "execution_count": 8,
   "id": "c9819119-8acd-44c7-9d96-c5d2d0e958b7",
   "metadata": {},
   "outputs": [
    {
     "data": {
      "text/plain": [
       "<matplotlib.legend.Legend at 0x14c6db590>"
      ]
     },
     "execution_count": 8,
     "metadata": {},
     "output_type": "execute_result"
    },
    {
     "data": {
      "image/png": "[encoded data removed]",
      "text/plain": [
       "<Figure size 640x480 with 1 Axes>"
      ]
     },
     "metadata": {},
     "output_type": "display_data"
    }
   ],
   "source": [
    "fig = plt.figure()\n",
    "ax = fig.add_subplot(111)\n",
    "df['anxiety_level'].plot(kind='kde', ax=ax)\n",
    "lines, labels = ax.get_legend_handles_labels()\n",
    "ax.legend(lines, labels, loc='best')"
   ]
  },
  {
   "cell_type": "code",
   "execution_count": 9,
   "id": "48f08ef5-ae40-4622-87a4-454f6df31945",
   "metadata": {},
   "outputs": [
    {
     "data": {
      "text/plain": [
       "<Axes: >"
      ]
     },
     "execution_count": 9,
     "metadata": {},
     "output_type": "execute_result"
    },
    {
     "data": {
      "image/png": "[encoded data removed]",
      "text/plain": [
       "<Figure size 640x480 with 1 Axes>"
      ]
     },
     "metadata": {},
     "output_type": "display_data"
    }
   ],
   "source": [
    "df.boxplot(column=\"anxiety_level\")"
   ]
  },
  {
   "cell_type": "markdown",
   "id": "5fed1a5d-1796-4b88-9831-63e896c952eb",
   "metadata": {},
   "source": [
    "### Anxiety level is right skewed and has a lot of outliers"
   ]
  },
  {
   "cell_type": "code",
   "execution_count": 10,
   "id": "3797e1af-8aaf-451f-ba45-ab24d9460e51",
   "metadata": {},
   "outputs": [
    {
     "name": "stdout",
     "output_type": "stream",
     "text": [
      "-10.5\n",
      "33.5\n"
     ]
    },
    {
     "data": {
      "text/plain": [
       "(None, None)"
      ]
     },
     "execution_count": 10,
     "metadata": {},
     "output_type": "execute_result"
    }
   ],
   "source": [
    "# df[\"anxiety_level\"].describe()\n",
    "\n",
    "IQR=df.anxiety_level.quantile(0.75)-df.anxiety_level.quantile(0.25)\n",
    "\n",
    "lower_bridge=df['anxiety_level'].quantile(0.25)-(IQR*1.5)\n",
    "upper_bridge=df['anxiety_level'].quantile(0.75)+(IQR*1.5)\n",
    "print(lower_bridge), print(upper_bridge)\n",
    "\n",
    "# #### Extreme outliers as data is right skewed\n",
    "# lower_bridge=df['anxiety_level'].quantile(0.25)-(IQR*3)\n",
    "# upper_bridge=df['anxiety_level'].quantile(0.75)+(IQR*3)\n",
    "# print(lower_bridge), print(upper_bridge)\n",
    "# uppper_boundary=df['anxiety_level'].mean() + 3* df['anxiety_level'].std()\n",
    "# lower_boundary=df['anxiety_level'].mean() - 3* df['anxiety_level'].std()\n",
    "# print(lower_boundary), print(uppper_boundary),print(df['anxiety_level'].mean())"
   ]
  },
  {
   "cell_type": "code",
   "execution_count": 11,
   "id": "331718ea-b532-4f35-91a7-e6b2f6211ead",
   "metadata": {},
   "outputs": [],
   "source": [
    "df.loc[df['anxiety_level'] >= 33.5, 'anxiety_level'] = 33.5"
   ]
  },
  {
   "cell_type": "code",
   "execution_count": 12,
   "id": "aa1b22a7-86a7-4a3a-aa7f-82b26394efb9",
   "metadata": {},
   "outputs": [
    {
     "data": {
      "text/plain": [
       "<Axes: >"
      ]
     },
     "execution_count": 12,
     "metadata": {},
     "output_type": "execute_result"
    },
    {
     "data": {
      "image/png": "[encoded data removed]",
      "text/plain": [
       "<Figure size 640x480 with 1 Axes>"
      ]
     },
     "metadata": {},
     "output_type": "display_data"
    }
   ],
   "source": [
    "df.boxplot(column=\"anxiety_level\")"
   ]
  },
  {
   "cell_type": "markdown",
   "id": "8fb80281-854d-47f1-abcf-c16f5e8ed281",
   "metadata": {},
   "source": [
    "## Handling Outliers in self_esteem"
   ]
  },
  {
   "cell_type": "code",
   "execution_count": 13,
   "id": "375a6ae1-b0bd-423b-b37e-1fb511d047cb",
   "metadata": {},
   "outputs": [
    {
     "data": {
      "text/plain": [
       "<matplotlib.legend.Legend at 0x14c5ae5d0>"
      ]
     },
     "execution_count": 13,
     "metadata": {},
     "output_type": "execute_result"
    },
    {
     "data": {
      "image/png": "[encoded data removed]",
      "text/plain": [
       "<Figure size 640x480 with 1 Axes>"
      ]
     },
     "metadata": {},
     "output_type": "display_data"
    }
   ],
   "source": [
    "fig = plt.figure()\n",
    "ax = fig.add_subplot(111)\n",
    "df['self_esteem'].plot(kind='kde', ax=ax)\n",
    "lines, labels = ax.get_legend_handles_labels()\n",
    "ax.legend(lines, labels, loc='best')"
   ]
  },
  {
   "cell_type": "code",
   "execution_count": 14,
   "id": "59eeb158-7b68-47dd-b6d4-0e5c60534f93",
   "metadata": {},
   "outputs": [
    {
     "data": {
      "text/plain": [
       "<Axes: >"
      ]
     },
     "execution_count": 14,
     "metadata": {},
     "output_type": "execute_result"
    },
    {
     "data": {
      "image/png": "[encoded data removed]",
      "text/plain": [
       "<Figure size 640x480 with 1 Axes>"
      ]
     },
     "metadata": {},
     "output_type": "display_data"
    }
   ],
   "source": [
    "df.boxplot(column=\"self_esteem\")"
   ]
  },
  {
   "cell_type": "code",
   "execution_count": 15,
   "id": "5bb3a7b3-e948-439a-8462-420071a738b9",
   "metadata": {},
   "outputs": [
    {
     "name": "stdout",
     "output_type": "stream",
     "text": [
      "-11.5\n",
      "48.5\n"
     ]
    },
    {
     "data": {
      "text/plain": [
       "(None, None)"
      ]
     },
     "execution_count": 15,
     "metadata": {},
     "output_type": "execute_result"
    }
   ],
   "source": [
    "# df[\"anxiety_level\"].describe()\n",
    "\n",
    "IQR=df.self_esteem.quantile(0.75)-df.self_esteem.quantile(0.25)\n",
    "\n",
    "lower_bridge=df['self_esteem'].quantile(0.25)-(IQR*1.5)\n",
    "upper_bridge=df['self_esteem'].quantile(0.75)+(IQR*1.5)\n",
    "print(lower_bridge), print(upper_bridge)\n",
    "\n",
    "# #### Extreme outliers as data is right skewed\n",
    "# lower_bridge=df['anxiety_level'].quantile(0.25)-(IQR*3)\n",
    "# upper_bridge=df['anxiety_level'].quantile(0.75)+(IQR*3)\n",
    "# print(lower_bridge), print(upper_bridge)\n",
    "# uppper_boundary=df['anxiety_level'].mean() + 3* df['anxiety_level'].std()\n",
    "# lower_boundary=df['anxiety_level'].mean() - 3* df['anxiety_level'].std()\n",
    "# print(lower_boundary), print(uppper_boundary),print(df['anxiety_level'].mean())"
   ]
  },
  {
   "cell_type": "code",
   "execution_count": 16,
   "id": "ab8e105b-a5f1-4da9-b3f5-7bf56d55d1b6",
   "metadata": {},
   "outputs": [
    {
     "data": {
      "text/plain": [
       "<Axes: >"
      ]
     },
     "execution_count": 16,
     "metadata": {},
     "output_type": "execute_result"
    },
    {
     "data": {
      "image/png": "[encoded data removed]",
      "text/plain": [
       "<Figure size 640x480 with 1 Axes>"
      ]
     },
     "metadata": {},
     "output_type": "display_data"
    }
   ],
   "source": [
    "df.loc[df['self_esteem'] >= 48.5, 'self_esteem'] = 48.5\n",
    "df.boxplot(column=\"self_esteem\")"
   ]
  },
  {
   "cell_type": "markdown",
   "id": "4d1d445a-8279-4326-a705-b6a19502ff76",
   "metadata": {},
   "source": [
    "## Handling Outliers in depression"
   ]
  },
  {
   "cell_type": "code",
   "execution_count": 17,
   "id": "d0af2996-b651-42c4-9084-383b62044e27",
   "metadata": {},
   "outputs": [
    {
     "data": {
      "text/plain": [
       "<matplotlib.legend.Legend at 0x14c5aa350>"
      ]
     },
     "execution_count": 17,
     "metadata": {},
     "output_type": "execute_result"
    },
    {
     "data": {
      "image/png": "[encoded data removed]",
      "text/plain": [
       "<Figure size 640x480 with 1 Axes>"
      ]
     },
     "metadata": {},
     "output_type": "display_data"
    }
   ],
   "source": [
    "fig = plt.figure()\n",
    "ax = fig.add_subplot(111)\n",
    "df['depression'].plot(kind='kde', ax=ax)\n",
    "lines, labels = ax.get_legend_handles_labels()\n",
    "ax.legend(lines, labels, loc='best')"
   ]
  },
  {
   "cell_type": "code",
   "execution_count": 18,
   "id": "7fc6f9dd-3e9c-4e27-9b6a-cb2bd8b81440",
   "metadata": {},
   "outputs": [
    {
     "data": {
      "text/plain": [
       "<Axes: >"
      ]
     },
     "execution_count": 18,
     "metadata": {},
     "output_type": "execute_result"
    },
    {
     "data": {
      "image/png": "[encoded data removed]",
      "text/plain": [
       "<Figure size 640x480 with 1 Axes>"
      ]
     },
     "metadata": {},
     "output_type": "display_data"
    }
   ],
   "source": [
    "df.boxplot(column=\"depression\")"
   ]
  },
  {
   "cell_type": "code",
   "execution_count": 19,
   "id": "14f5fe43-d964-4ae5-877f-b92a0519f1fe",
   "metadata": {},
   "outputs": [
    {
     "name": "stdout",
     "output_type": "stream",
     "text": [
      "-12.5\n",
      "39.5\n"
     ]
    },
    {
     "data": {
      "text/plain": [
       "(None, None)"
      ]
     },
     "execution_count": 19,
     "metadata": {},
     "output_type": "execute_result"
    }
   ],
   "source": [
    "# df[\"anxiety_level\"].describe()\n",
    "\n",
    "IQR=df.depression.quantile(0.75)-df.depression.quantile(0.25)\n",
    "\n",
    "lower_bridge=df['depression'].quantile(0.25)-(IQR*1.5)\n",
    "upper_bridge=df['depression'].quantile(0.75)+(IQR*1.5)\n",
    "print(lower_bridge), print(upper_bridge)\n",
    "\n",
    "# #### Extreme outliers as data is right skewed\n",
    "# lower_bridge=df['anxiety_level'].quantile(0.25)-(IQR*3)\n",
    "# upper_bridge=df['anxiety_level'].quantile(0.75)+(IQR*3)\n",
    "# print(lower_bridge), print(upper_bridge)\n",
    "# uppper_boundary=df['anxiety_level'].mean() + 3* df['anxiety_level'].std()\n",
    "# lower_boundary=df['anxiety_level'].mean() - 3* df['anxiety_level'].std()\n",
    "# print(lower_boundary), print(uppper_boundary),print(df['anxiety_level'].mean())"
   ]
  },
  {
   "cell_type": "code",
   "execution_count": 20,
   "id": "5e4ea9d4-00aa-4b8c-8479-8017e39807d8",
   "metadata": {},
   "outputs": [
    {
     "data": {
      "text/plain": [
       "<Axes: >"
      ]
     },
     "execution_count": 20,
     "metadata": {},
     "output_type": "execute_result"
    },
    {
     "data": {
      "image/png": "[encoded data removed]",
      "text/plain": [
       "<Figure size 640x480 with 1 Axes>"
      ]
     },
     "metadata": {},
     "output_type": "display_data"
    }
   ],
   "source": [
    "df.loc[df['depression'] >= 39.5, 'depression'] = 39.5\n",
    "df.boxplot(column=\"depression\")"
   ]
  },
  {
   "cell_type": "code",
   "execution_count": 21,
   "id": "0e55c06b-a4c7-49c1-a11b-689bd9b1dab7",
   "metadata": {},
   "outputs": [
    {
     "name": "stdout",
     "output_type": "stream",
     "text": [
      "Feature Scales:\n",
      "                              min   max\n",
      "anxiety_level                 0.0  33.5\n",
      "self_esteem                   0.0  48.5\n",
      "depression                    0.0  39.5\n",
      "sleep_quality                 0.0   5.0\n",
      "breathing_problem             0.0   5.0\n",
      "noise_level                   0.0   5.0\n",
      "living_conditions             0.0   5.0\n",
      "safety                        0.0   5.0\n",
      "basic_needs                   0.0   5.0\n",
      "academic_performance          0.0   5.0\n",
      "study_load                    0.0   5.0\n",
      "teacher_student_relationship  0.0   5.0\n",
      "future_career_concerns        0.0   5.0\n",
      "social_support                0.0   3.0\n",
      "peer_pressure                 0.0   5.0\n",
      "extracurricular_activities    0.0   5.0\n",
      "bullying                      0.0   5.0\n",
      "stress_level                  0.0   2.0\n"
     ]
    }
   ],
   "source": [
    "feature_scales = df.describe().loc[['min', 'max']].transpose()\n",
    "\n",
    "print(\"Feature Scales:\")\n",
    "print(feature_scales)"
   ]
  },
  {
   "cell_type": "code",
   "execution_count": null,
   "id": "b37db582-4985-41e3-945b-58a5241ac2cb",
   "metadata": {},
   "outputs": [],
   "source": []
  }
 ],
 "metadata": {
  "kernelspec": {
   "display_name": "Python 3 (ipykernel)",
   "language": "python",
   "name": "python3"
  },
  "language_info": {
   "codemirror_mode": {
    "name": "ipython",
    "version": 3
   },
   "file_extension": ".py",
   "mimetype": "text/x-python",
   "name": "python",
   "nbconvert_exporter": "python",
   "pygments_lexer": "ipython3",
   "version": "3.11.6"
  }
 },
 "nbformat": 4,
 "nbformat_minor": 5
}
